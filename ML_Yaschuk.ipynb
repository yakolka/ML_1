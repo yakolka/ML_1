{
 "cells": [
  {
   "cell_type": "code",
   "execution_count": 137,
   "metadata": {},
   "outputs": [],
   "source": [
    "import pandas as pd\n",
    "import numpy as np\n",
    "from sklearn import preprocessing\n",
    "import matplotlib.pyplot as plt\n",
    "from sklearn.decomposition import PCA\n",
    "from sklearn.linear_model import LogisticRegression\n",
    "from sklearn.model_selection import train_test_split\n",
    "from sklearn.metrics import accuracy_score\n",
    "from sklearn.linear_model import LinearRegression\n",
    "import statsmodels.api as sm\n",
    "from sklearn import linear_model\n",
    "import statistics"
   ]
  },
  {
   "cell_type": "markdown",
   "metadata": {},
   "source": [
    "# FUNCTIONS"
   ]
  },
  {
   "cell_type": "markdown",
   "metadata": {},
   "source": [
    "# 1) Delete"
   ]
  },
  {
   "cell_type": "code",
   "execution_count": null,
   "metadata": {},
   "outputs": [],
   "source": [
    "#delete rows or colums with nan\n",
    "# del_nan(df, col = False) - delete rows, if include nan, df - dataframe\n",
    "def nan_detect(df):\n",
    "    nan_pos = []\n",
    "    for i in range(df.shape[0]):\n",
    "        for j in range(df.shape[1]):\n",
    "            try:\n",
    "                if  pd.isna(df.iloc[i,j]):             \n",
    "                        nan_pos.append((i,j))\n",
    "            except:\n",
    "                pass\n",
    "    return nan_pos\n",
    "\n",
    "def del_nan(df, col = False):\n",
    "    if col:\n",
    "        df = df.drop(df.columns[[i[1] for i in nan_detect(df) ]], axis=1)\n",
    "\n",
    "    else:\n",
    "        df = df.drop(df.index[[i[0] for i in nan_detect(df) ]], axis = 0)\n",
    "\n",
    "    return df"
   ]
  },
  {
   "cell_type": "markdown",
   "metadata": {},
   "source": [
    "# 2) Replace nan with average, mode or mediana"
   ]
  },
  {
   "cell_type": "code",
   "execution_count": null,
   "metadata": {},
   "outputs": [],
   "source": [
    "# replace nan with average, mode or mediana\n",
    "# amm(a, n = 1, b = 'avarage'), n - number of column, a - dataframe\n",
    "def amm(a, n = 1, b = 'avarage'):\n",
    "    \n",
    "    if b == 'avarage':\n",
    "        \n",
    "        s = 0    \n",
    "        k = len(a)\n",
    "    \n",
    "        for i in range(len(a)): \n",
    "            if a[i][n] == a[i][n]:\n",
    "                s = s + a[i][n]\n",
    "            else:\n",
    "                k -= 1        \n",
    "        \n",
    "        for i in range (len(a)):\n",
    "            if a[i][n] != a[i][n]:\n",
    "                a[i][n] = s/k\n",
    "        return (a)\n",
    "    \n",
    "    elif b == 'mediana':\n",
    "        \n",
    "        l = []\n",
    "        for i in range(len(a)):\n",
    "            k = len(a)\n",
    "            if a[i][n] == a[i][n]:            \n",
    "                l.append(a[i][n])            \n",
    "            else:\n",
    "                k -= 1\n",
    "        \n",
    "        l.sort()\n",
    "            \n",
    "        for i in range (len(a)):\n",
    "            if a[i][n] != a[i][n]:\n",
    "                a[i][n] = l[len(l)//2]    \n",
    "        return (a)\n",
    "    \n",
    "    elif b == 'moda':    \n",
    "        \n",
    "        l = []\n",
    "        for i in range(len(a)):        \n",
    "            k = len(a)        \n",
    "            if a[i][n] == a[i][n]:            \n",
    "                l.append(a[i][n])             \n",
    "            else:\n",
    "                k -= 1          \n",
    "            \n",
    "        for i in range (len(a)):\n",
    "            if a[i][n] != a[i][n]:\n",
    "                a[i][n] = max(l, key=l.count)    \n",
    "        return (a)\n",
    "    \n",
    "    else:\n",
    "        print ('please use avarage, moda or mediana')\n",
    "        \n",
    "        \n",
    "        "
   ]
  },
  {
   "cell_type": "markdown",
   "metadata": {},
   "source": [
    "# 3) Replace nan with linear regression result"
   ]
  },
  {
   "cell_type": "code",
   "execution_count": 204,
   "metadata": {},
   "outputs": [],
   "source": [
    "# replace nan with linear regression result\n",
    "#LR(a, n = 0), n - number of column\n",
    "\n",
    "def LR(a, n = 0, k = 1):\n",
    "    \n",
    "    a1 = a\n",
    "    \n",
    "    #functions for del nan\n",
    "    def nan_detect(df):\n",
    "        nan_pos = []\n",
    "        for i in range(df.shape[0]):\n",
    "            for j in range(df.shape[1]):\n",
    "                try:\n",
    "                    if  pd.isna(df.iloc[i,j]):             \n",
    "                        nan_pos.append((i,j))\n",
    "                except:\n",
    "                    pass\n",
    "        return nan_pos\n",
    "    \n",
    "    def del_nan(df, col = False):\n",
    "        if col:\n",
    "            df = df.drop(df.columns[[i[1] for i in nan_detect(df) ]], axis=1)\n",
    "\n",
    "        else:\n",
    "            df = df.drop(df.index[[i[0] for i in nan_detect(df) ]], axis = 0)\n",
    "\n",
    "        return df\n",
    "    \n",
    "    \n",
    "    # Linear regression\n",
    "    \n",
    "    a = pd.DataFrame(a)\n",
    "    a = del_nan(a)\n",
    "    y = np.array(a[n])    \n",
    "    X = np.array(a[k])\n",
    "    \n",
    "        \n",
    "    #X = X.T \n",
    "    X = np.c_[X, np.ones(X.shape[0])] \n",
    "    beta_hat = np.linalg.lstsq(X,y)[0]\n",
    "    \n",
    "    beta_hat1 = beta_hat[-1]\n",
    "    beta_hat = beta_hat[:-1]\n",
    "\n",
    "  \n",
    "    def listsum(numList):\n",
    "        if len(numList) == 1:\n",
    "            return numList[0]\n",
    "        else:\n",
    "            return numList[0] + listsum(numList[1:])  \n",
    "        \n",
    "    # new coeficients    \n",
    "    \n",
    "    for i in range (len(a1)):\n",
    "        f = []\n",
    "        \n",
    "        if a1[i][n] != a1[i][n]:    \n",
    "                              \n",
    "            f.append(a1[i][k])                          \n",
    "                     \n",
    "            c = np.multiply(np.array(f),beta_hat1)   \n",
    "                         \n",
    "            a1[i][n] = (listsum(c) + beta_hat[-1])\n",
    "            \n",
    "    return a1\n",
    "            \n"
   ]
  },
  {
   "cell_type": "markdown",
   "metadata": {},
   "source": [
    "# KNN"
   ]
  },
  {
   "cell_type": "code",
   "execution_count": 146,
   "metadata": {},
   "outputs": [],
   "source": [
    "\n",
    "def get_nan_list(column):\n",
    "    from math import isnan\n",
    "    nan_list = []\n",
    "    for i in range(len(column)):\n",
    "        if isnan(column[i]): \n",
    "            nan_list.append(i)\n",
    "    return nan_list\n",
    "\n",
    "def get_train_test(data, column_name, nan_list):\n",
    "    all_list = list(range(0, data.shape[0]))\n",
    "    not_nan_list = list(set(all_list)-set(nan_list))\n",
    "    data_predict = data.iloc[nan_list, :]\n",
    "    data_train = data.iloc[not_nan_list, :]\n",
    "    return data_train, data_predict\n",
    "\n",
    "def get_columns(data, column_name):\n",
    "    columns = list(data.columns)\n",
    "    del columns[columns.index(column_name)]\n",
    "    return columns\n",
    "    \n",
    "def euclidean_distance(node1, node2, shape):\n",
    "    import math\n",
    "    distance = 0\n",
    "    for x in shape:\n",
    "        distance += pow((node1[x] - node2[x]), 2)\n",
    "    return math.sqrt(distance)\n",
    "\n",
    "def get_neighbors(data, column_name, amount_k):\n",
    "    if data[column_name].dtype=='object':\n",
    "        raise ValueError\n",
    "    nan_list = get_nan_list(data[column_name])\n",
    "    all_list = list(range(0, data.shape[0]))\n",
    "    not_nan_list = list(set(all_list)-set(nan_list))\n",
    "    if len(nan_list)==0:\n",
    "        raise ValueError\n",
    "    data_train, data_predict = get_train_test(data, column_name, nan_list)        \n",
    "    columns = get_columns(data, column_name)\n",
    "    all_neighbors = []\n",
    "    for y in nan_list:\n",
    "        distances = []\n",
    "        for x in not_nan_list:\n",
    "            dist = euclidean_distance(\n",
    "                data_predict.loc[y, columns], \n",
    "                data_train.loc[x, columns], \n",
    "                columns)\n",
    "            distances.append((x, dist))\n",
    "        distances.sort(key=lambda x:x[1])\n",
    "        all_neighbors.append(distances[:amount_k])  \n",
    "        print(y)  \n",
    "    return all_neighbors\n",
    "\n",
    "def get_target(neighbors, target):\n",
    "    sum_ = 0\n",
    "    sum_d = 0\n",
    "    for i in neighbors:\n",
    "        if i[1]==0:\n",
    "            return target[i[0]]\n",
    "        sum_d +=1/i[1]\n",
    "        sum_+=1/i[1]*target[i[0]]\n",
    "    return sum_/sum_d\n",
    "\n",
    "\n",
    "\n",
    "def replace_knn(data, column_name, amount_k):\n",
    "    if data[column_name].dtype=='object':\n",
    "        raise ValueError\n",
    "    nan_list = get_nan_list(data[column_name])\n",
    "    if len(nan_list)==0:\n",
    "        raise ValueError\n",
    "    predictions = []\n",
    "    neighbors = get_neighbors(data, column_name, amount_k)\n",
    "    for i in neighbors:\n",
    "        predictions.append(get_target(i, data[column_name]))\n",
    "    data_=data.copy(deep=True)\n",
    "    for i in range(len(nan_list)):\n",
    "        data_.loc[nan_list[i], column_name]=predictions[i]\n",
    "    return data_\n"
   ]
  },
  {
   "cell_type": "markdown",
   "metadata": {},
   "source": [
    "# Standardizes"
   ]
  },
  {
   "cell_type": "code",
   "execution_count": 140,
   "metadata": {},
   "outputs": [],
   "source": [
    "#standardizes your data\n",
    "#st(a, n = 0), a - data, n - number of column\n",
    "\n",
    "\n",
    "def st(a, n = 0):\n",
    "    \n",
    "    l = []\n",
    "    for i in range(len(a)):        \n",
    "        if a[i][n] == a[i][n]:            \n",
    "            l.append(a[i][n])            \n",
    "    s = statistics.stdev(l) \n",
    "    m = statistics.mean(l) \n",
    "    \n",
    "    \n",
    "    for i in range (len(a)):\n",
    "        if a[i][n] == a[i][n]:\n",
    "            a[i][n] = (a[i][n] - m)/s\n",
    "        else:\n",
    "            print (\"your data include nan\")\n",
    "    return (a)"
   ]
  },
  {
   "cell_type": "markdown",
   "metadata": {},
   "source": [
    "# Scales"
   ]
  },
  {
   "cell_type": "code",
   "execution_count": 143,
   "metadata": {},
   "outputs": [],
   "source": [
    "# scales values in your data\n",
    "#msh(a, n = 0) - a your data, n - number of column\n",
    "\n",
    "\n",
    "def msh(a, n = 0):\n",
    "    \n",
    "    l = []\n",
    "    for i in range(len(a)):        \n",
    "        if a[i][n] == a[i][n]:            \n",
    "            l.append(a[i][n])            \n",
    "       \n",
    "        \n",
    "    for i in range (len(a)):\n",
    "        if a[i][n] == a[i][n]:\n",
    "            a[i][n] = (a[i][n] - min(l))/(max(l)-min(l))\n",
    "        else:\n",
    "            print (\"your data include nan\")\n",
    "    return (a)\n",
    "       "
   ]
  },
  {
   "cell_type": "markdown",
   "metadata": {},
   "source": [
    "# Data preprocessing"
   ]
  },
  {
   "cell_type": "code",
   "execution_count": 172,
   "metadata": {},
   "outputs": [],
   "source": [
    "data = pd.read_csv('C:/Users/BIONIC Admin/Desktop/ML/winemag-data-130k-v2.csv', error_bad_lines=False)"
   ]
  },
  {
   "cell_type": "markdown",
   "metadata": {},
   "source": [
    "### Data description\n",
    "Датасет містить інформацію про вина і має наступні колонки:\n",
    "\n",
    "country - країна, з якої вино\n",
    "\n",
    "points - WineEnthusiast оцінювали вина за шкалою 1-100 \n",
    "\n",
    "price - ціна за пляшку вина\n",
    "\n",
    "province - провінція з якої вино\n",
    "\n",
    "region_1 - Виробнича територія в провінції або штаті (напр. Napa)\n",
    "\n",
    "region_2 - Іноді існують більш конкретні регіони, визначені в межах виноробної території (наприклад, Резерфорд в долині Напа), але це значення іноді може бути порожнім\n",
    "\n",
    "title -  назва винної рецензії\n",
    "\n",
    "variety - вид винограду, що використовується для виготовлення вина \n",
    "\n",
    "winery - ім'я виноробні, які зробили вино\n",
    "\n",
    "\n",
    "### taster_twitter_handle - твітер винного знавця, який оцінював вино. Цю змінну ми і спробуємо прогнозувати. \n",
    "Фактично за інформацією про вино та поставленою оцінкою вгадати людину, яка оцінювала"
   ]
  },
  {
   "cell_type": "code",
   "execution_count": 173,
   "metadata": {},
   "outputs": [
    {
     "data": {
      "text/html": [
       "<div>\n",
       "<style scoped>\n",
       "    .dataframe tbody tr th:only-of-type {\n",
       "        vertical-align: middle;\n",
       "    }\n",
       "\n",
       "    .dataframe tbody tr th {\n",
       "        vertical-align: top;\n",
       "    }\n",
       "\n",
       "    .dataframe thead th {\n",
       "        text-align: right;\n",
       "    }\n",
       "</style>\n",
       "<table border=\"1\" class=\"dataframe\">\n",
       "  <thead>\n",
       "    <tr style=\"text-align: right;\">\n",
       "      <th></th>\n",
       "      <th>Unnamed: 0</th>\n",
       "      <th>country</th>\n",
       "      <th>description</th>\n",
       "      <th>designation</th>\n",
       "      <th>points</th>\n",
       "      <th>price</th>\n",
       "      <th>province</th>\n",
       "      <th>region_1</th>\n",
       "      <th>region_2</th>\n",
       "      <th>taster_name</th>\n",
       "      <th>taster_twitter_handle</th>\n",
       "      <th>title</th>\n",
       "      <th>variety</th>\n",
       "      <th>winery</th>\n",
       "    </tr>\n",
       "  </thead>\n",
       "  <tbody>\n",
       "    <tr>\n",
       "      <th>0</th>\n",
       "      <td>0</td>\n",
       "      <td>Italy</td>\n",
       "      <td>Aromas include tropical fruit, broom, brimston...</td>\n",
       "      <td>Vulkà Bianco</td>\n",
       "      <td>87</td>\n",
       "      <td>NaN</td>\n",
       "      <td>Sicily &amp; Sardinia</td>\n",
       "      <td>Etna</td>\n",
       "      <td>NaN</td>\n",
       "      <td>Kerin O’Keefe</td>\n",
       "      <td>@kerinokeefe</td>\n",
       "      <td>Nicosia 2013 Vulkà Bianco  (Etna)</td>\n",
       "      <td>White Blend</td>\n",
       "      <td>Nicosia</td>\n",
       "    </tr>\n",
       "    <tr>\n",
       "      <th>1</th>\n",
       "      <td>1</td>\n",
       "      <td>Portugal</td>\n",
       "      <td>This is ripe and fruity, a wine that is smooth...</td>\n",
       "      <td>Avidagos</td>\n",
       "      <td>87</td>\n",
       "      <td>15.0</td>\n",
       "      <td>Douro</td>\n",
       "      <td>NaN</td>\n",
       "      <td>NaN</td>\n",
       "      <td>Roger Voss</td>\n",
       "      <td>@vossroger</td>\n",
       "      <td>Quinta dos Avidagos 2011 Avidagos Red (Douro)</td>\n",
       "      <td>Portuguese Red</td>\n",
       "      <td>Quinta dos Avidagos</td>\n",
       "    </tr>\n",
       "    <tr>\n",
       "      <th>2</th>\n",
       "      <td>2</td>\n",
       "      <td>US</td>\n",
       "      <td>Tart and snappy, the flavors of lime flesh and...</td>\n",
       "      <td>NaN</td>\n",
       "      <td>87</td>\n",
       "      <td>14.0</td>\n",
       "      <td>Oregon</td>\n",
       "      <td>Willamette Valley</td>\n",
       "      <td>Willamette Valley</td>\n",
       "      <td>Paul Gregutt</td>\n",
       "      <td>@paulgwine</td>\n",
       "      <td>Rainstorm 2013 Pinot Gris (Willamette Valley)</td>\n",
       "      <td>Pinot Gris</td>\n",
       "      <td>Rainstorm</td>\n",
       "    </tr>\n",
       "    <tr>\n",
       "      <th>3</th>\n",
       "      <td>3</td>\n",
       "      <td>US</td>\n",
       "      <td>Pineapple rind, lemon pith and orange blossom ...</td>\n",
       "      <td>Reserve Late Harvest</td>\n",
       "      <td>87</td>\n",
       "      <td>13.0</td>\n",
       "      <td>Michigan</td>\n",
       "      <td>Lake Michigan Shore</td>\n",
       "      <td>NaN</td>\n",
       "      <td>Alexander Peartree</td>\n",
       "      <td>NaN</td>\n",
       "      <td>St. Julian 2013 Reserve Late Harvest Riesling ...</td>\n",
       "      <td>Riesling</td>\n",
       "      <td>St. Julian</td>\n",
       "    </tr>\n",
       "    <tr>\n",
       "      <th>4</th>\n",
       "      <td>4</td>\n",
       "      <td>US</td>\n",
       "      <td>Much like the regular bottling from 2012, this...</td>\n",
       "      <td>Vintner's Reserve Wild Child Block</td>\n",
       "      <td>87</td>\n",
       "      <td>65.0</td>\n",
       "      <td>Oregon</td>\n",
       "      <td>Willamette Valley</td>\n",
       "      <td>Willamette Valley</td>\n",
       "      <td>Paul Gregutt</td>\n",
       "      <td>@paulgwine</td>\n",
       "      <td>Sweet Cheeks 2012 Vintner's Reserve Wild Child...</td>\n",
       "      <td>Pinot Noir</td>\n",
       "      <td>Sweet Cheeks</td>\n",
       "    </tr>\n",
       "  </tbody>\n",
       "</table>\n",
       "</div>"
      ],
      "text/plain": [
       "   Unnamed: 0   country                                        description  \\\n",
       "0           0     Italy  Aromas include tropical fruit, broom, brimston...   \n",
       "1           1  Portugal  This is ripe and fruity, a wine that is smooth...   \n",
       "2           2        US  Tart and snappy, the flavors of lime flesh and...   \n",
       "3           3        US  Pineapple rind, lemon pith and orange blossom ...   \n",
       "4           4        US  Much like the regular bottling from 2012, this...   \n",
       "\n",
       "                          designation  points  price           province  \\\n",
       "0                        Vulkà Bianco      87    NaN  Sicily & Sardinia   \n",
       "1                            Avidagos      87   15.0              Douro   \n",
       "2                                 NaN      87   14.0             Oregon   \n",
       "3                Reserve Late Harvest      87   13.0           Michigan   \n",
       "4  Vintner's Reserve Wild Child Block      87   65.0             Oregon   \n",
       "\n",
       "              region_1           region_2         taster_name  \\\n",
       "0                 Etna                NaN       Kerin O’Keefe   \n",
       "1                  NaN                NaN          Roger Voss   \n",
       "2    Willamette Valley  Willamette Valley        Paul Gregutt   \n",
       "3  Lake Michigan Shore                NaN  Alexander Peartree   \n",
       "4    Willamette Valley  Willamette Valley        Paul Gregutt   \n",
       "\n",
       "  taster_twitter_handle                                              title  \\\n",
       "0          @kerinokeefe                  Nicosia 2013 Vulkà Bianco  (Etna)   \n",
       "1            @vossroger      Quinta dos Avidagos 2011 Avidagos Red (Douro)   \n",
       "2           @paulgwine       Rainstorm 2013 Pinot Gris (Willamette Valley)   \n",
       "3                   NaN  St. Julian 2013 Reserve Late Harvest Riesling ...   \n",
       "4           @paulgwine   Sweet Cheeks 2012 Vintner's Reserve Wild Child...   \n",
       "\n",
       "          variety               winery  \n",
       "0     White Blend              Nicosia  \n",
       "1  Portuguese Red  Quinta dos Avidagos  \n",
       "2      Pinot Gris            Rainstorm  \n",
       "3        Riesling           St. Julian  \n",
       "4      Pinot Noir         Sweet Cheeks  "
      ]
     },
     "execution_count": 173,
     "metadata": {},
     "output_type": "execute_result"
    }
   ],
   "source": [
    "data.head()"
   ]
  },
  {
   "cell_type": "code",
   "execution_count": 174,
   "metadata": {},
   "outputs": [
    {
     "data": {
      "text/html": [
       "<div>\n",
       "<style scoped>\n",
       "    .dataframe tbody tr th:only-of-type {\n",
       "        vertical-align: middle;\n",
       "    }\n",
       "\n",
       "    .dataframe tbody tr th {\n",
       "        vertical-align: top;\n",
       "    }\n",
       "\n",
       "    .dataframe thead th {\n",
       "        text-align: right;\n",
       "    }\n",
       "</style>\n",
       "<table border=\"1\" class=\"dataframe\">\n",
       "  <thead>\n",
       "    <tr style=\"text-align: right;\">\n",
       "      <th></th>\n",
       "      <th>Unnamed: 0</th>\n",
       "      <th>points</th>\n",
       "      <th>price</th>\n",
       "    </tr>\n",
       "  </thead>\n",
       "  <tbody>\n",
       "    <tr>\n",
       "      <th>count</th>\n",
       "      <td>129971.000000</td>\n",
       "      <td>129971.000000</td>\n",
       "      <td>120975.000000</td>\n",
       "    </tr>\n",
       "    <tr>\n",
       "      <th>mean</th>\n",
       "      <td>64985.000000</td>\n",
       "      <td>88.447138</td>\n",
       "      <td>35.363389</td>\n",
       "    </tr>\n",
       "    <tr>\n",
       "      <th>std</th>\n",
       "      <td>37519.540256</td>\n",
       "      <td>3.039730</td>\n",
       "      <td>41.022218</td>\n",
       "    </tr>\n",
       "    <tr>\n",
       "      <th>min</th>\n",
       "      <td>0.000000</td>\n",
       "      <td>80.000000</td>\n",
       "      <td>4.000000</td>\n",
       "    </tr>\n",
       "    <tr>\n",
       "      <th>25%</th>\n",
       "      <td>32492.500000</td>\n",
       "      <td>86.000000</td>\n",
       "      <td>17.000000</td>\n",
       "    </tr>\n",
       "    <tr>\n",
       "      <th>50%</th>\n",
       "      <td>64985.000000</td>\n",
       "      <td>88.000000</td>\n",
       "      <td>25.000000</td>\n",
       "    </tr>\n",
       "    <tr>\n",
       "      <th>75%</th>\n",
       "      <td>97477.500000</td>\n",
       "      <td>91.000000</td>\n",
       "      <td>42.000000</td>\n",
       "    </tr>\n",
       "    <tr>\n",
       "      <th>max</th>\n",
       "      <td>129970.000000</td>\n",
       "      <td>100.000000</td>\n",
       "      <td>3300.000000</td>\n",
       "    </tr>\n",
       "  </tbody>\n",
       "</table>\n",
       "</div>"
      ],
      "text/plain": [
       "          Unnamed: 0         points          price\n",
       "count  129971.000000  129971.000000  120975.000000\n",
       "mean    64985.000000      88.447138      35.363389\n",
       "std     37519.540256       3.039730      41.022218\n",
       "min         0.000000      80.000000       4.000000\n",
       "25%     32492.500000      86.000000      17.000000\n",
       "50%     64985.000000      88.000000      25.000000\n",
       "75%     97477.500000      91.000000      42.000000\n",
       "max    129970.000000     100.000000    3300.000000"
      ]
     },
     "execution_count": 174,
     "metadata": {},
     "output_type": "execute_result"
    }
   ],
   "source": [
    "# describe dataframe \n",
    "data.describe()\n"
   ]
  },
  {
   "cell_type": "code",
   "execution_count": 175,
   "metadata": {},
   "outputs": [
    {
     "name": "stdout",
     "output_type": "stream",
     "text": [
      "<class 'pandas.core.frame.DataFrame'>\n",
      "RangeIndex: 129971 entries, 0 to 129970\n",
      "Data columns (total 14 columns):\n",
      "Unnamed: 0               129971 non-null int64\n",
      "country                  129908 non-null object\n",
      "description              129971 non-null object\n",
      "designation              92506 non-null object\n",
      "points                   129971 non-null int64\n",
      "price                    120975 non-null float64\n",
      "province                 129908 non-null object\n",
      "region_1                 108724 non-null object\n",
      "region_2                 50511 non-null object\n",
      "taster_name              103727 non-null object\n",
      "taster_twitter_handle    98758 non-null object\n",
      "title                    129971 non-null object\n",
      "variety                  129970 non-null object\n",
      "winery                   129971 non-null object\n",
      "dtypes: float64(1), int64(2), object(11)\n",
      "memory usage: 8.4+ MB\n"
     ]
    }
   ],
   "source": [
    "# print dataframe info\n",
    "data.info()"
   ]
  },
  {
   "cell_type": "markdown",
   "metadata": {},
   "source": [
    "### Deal with nans"
   ]
  },
  {
   "cell_type": "code",
   "execution_count": 176,
   "metadata": {},
   "outputs": [
    {
     "data": {
      "text/html": [
       "<div>\n",
       "<style scoped>\n",
       "    .dataframe tbody tr th:only-of-type {\n",
       "        vertical-align: middle;\n",
       "    }\n",
       "\n",
       "    .dataframe tbody tr th {\n",
       "        vertical-align: top;\n",
       "    }\n",
       "\n",
       "    .dataframe thead th {\n",
       "        text-align: right;\n",
       "    }\n",
       "</style>\n",
       "<table border=\"1\" class=\"dataframe\">\n",
       "  <thead>\n",
       "    <tr style=\"text-align: right;\">\n",
       "      <th></th>\n",
       "      <th>Unnamed: 0</th>\n",
       "      <th>country</th>\n",
       "      <th>description</th>\n",
       "      <th>designation</th>\n",
       "      <th>points</th>\n",
       "      <th>price</th>\n",
       "      <th>province</th>\n",
       "      <th>region_1</th>\n",
       "      <th>region_2</th>\n",
       "      <th>taster_name</th>\n",
       "      <th>taster_twitter_handle</th>\n",
       "      <th>title</th>\n",
       "      <th>variety</th>\n",
       "      <th>winery</th>\n",
       "    </tr>\n",
       "  </thead>\n",
       "  <tbody>\n",
       "    <tr>\n",
       "      <th>Amount of NaNs</th>\n",
       "      <td>0</td>\n",
       "      <td>63</td>\n",
       "      <td>0</td>\n",
       "      <td>37465</td>\n",
       "      <td>0</td>\n",
       "      <td>8996</td>\n",
       "      <td>63</td>\n",
       "      <td>21247</td>\n",
       "      <td>79460</td>\n",
       "      <td>26244</td>\n",
       "      <td>31213</td>\n",
       "      <td>0</td>\n",
       "      <td>1</td>\n",
       "      <td>0</td>\n",
       "    </tr>\n",
       "  </tbody>\n",
       "</table>\n",
       "</div>"
      ],
      "text/plain": [
       "                Unnamed: 0  country  description  designation  points  price  \\\n",
       "Amount of NaNs           0       63            0        37465       0   8996   \n",
       "\n",
       "                province  region_1  region_2  taster_name  \\\n",
       "Amount of NaNs        63     21247     79460        26244   \n",
       "\n",
       "                taster_twitter_handle  title  variety  winery  \n",
       "Amount of NaNs                  31213      0        1       0  "
      ]
     },
     "execution_count": 176,
     "metadata": {},
     "output_type": "execute_result"
    }
   ],
   "source": [
    "# Check amount of nans\n",
    "check_nans = pd.DataFrame({col:data[col].isna().sum() for col in data.columns}, index = ['Amount of NaNs'])\n",
    "check_nans"
   ]
  },
  {
   "cell_type": "code",
   "execution_count": null,
   "metadata": {},
   "outputs": [],
   "source": [
    "# Delete rows, which colums include nans\n",
    "data = del_nan(data, col = False)"
   ]
  },
  {
   "cell_type": "markdown",
   "metadata": {},
   "source": [
    "### First model - only deleted nans "
   ]
  },
  {
   "cell_type": "code",
   "execution_count": 129,
   "metadata": {},
   "outputs": [
    {
     "name": "stderr",
     "output_type": "stream",
     "text": [
      "c:\\users\\bionic admin\\appdata\\local\\programs\\python\\python37-32\\lib\\site-packages\\sklearn\\linear_model\\logistic.py:433: FutureWarning: Default solver will be changed to 'lbfgs' in 0.22. Specify a solver to silence this warning.\n",
      "  FutureWarning)\n",
      "c:\\users\\bionic admin\\appdata\\local\\programs\\python\\python37-32\\lib\\site-packages\\sklearn\\linear_model\\logistic.py:460: FutureWarning: Default multi_class will be changed to 'auto' in 0.22. Specify the multi_class option to silence this warning.\n",
      "  \"this warning.\", FutureWarning)\n"
     ]
    },
    {
     "data": {
      "text/plain": [
       "0.8525"
      ]
     },
     "execution_count": 129,
     "metadata": {},
     "output_type": "execute_result"
    }
   ],
   "source": [
    "#first \n",
    "# Make model only after delete nans \n",
    "data = pd.read_csv('C:/Users/BIONIC Admin/Desktop/ML/winemag-data-130k-v2.csv', error_bad_lines=False)\n",
    "\n",
    "data = del_nan(data, col = False)\n",
    "\n",
    "data  = data.iloc[1:10000]\n",
    "targets = data['taster_twitter_handle'].astype('category')\n",
    "data = data.drop(labels=['taster_twitter_handle'], axis=1)\n",
    "\n",
    "true = ['points','price','region_1','winery','province','variety']\n",
    "data_new = data[true]\n",
    "data_new = pd.get_dummies(data_new)\n",
    "\n",
    "X_train, X_test, y_train, y_test = train_test_split(data_new, targets, test_size=0.2, random_state=0)\n",
    "\n",
    "lr = LogisticRegression()\n",
    "lr = lr.fit(X_train, y_train)\n",
    "y_pred = lr.predict(X_test)\n",
    "accuracy_score(y_test, y_pred)"
   ]
  },
  {
   "cell_type": "markdown",
   "metadata": {},
   "source": [
    "##### Accuracy score - 0.8525"
   ]
  },
  {
   "cell_type": "markdown",
   "metadata": {},
   "source": [
    "### Second model - replace nans with avarage value"
   ]
  },
  {
   "cell_type": "code",
   "execution_count": 130,
   "metadata": {},
   "outputs": [
    {
     "name": "stderr",
     "output_type": "stream",
     "text": [
      "c:\\users\\bionic admin\\appdata\\local\\programs\\python\\python37-32\\lib\\site-packages\\sklearn\\linear_model\\logistic.py:433: FutureWarning: Default solver will be changed to 'lbfgs' in 0.22. Specify a solver to silence this warning.\n",
      "  FutureWarning)\n",
      "c:\\users\\bionic admin\\appdata\\local\\programs\\python\\python37-32\\lib\\site-packages\\sklearn\\linear_model\\logistic.py:460: FutureWarning: Default multi_class will be changed to 'auto' in 0.22. Specify the multi_class option to silence this warning.\n",
      "  \"this warning.\", FutureWarning)\n"
     ]
    },
    {
     "data": {
      "text/plain": [
       "0.846"
      ]
     },
     "execution_count": 130,
     "metadata": {},
     "output_type": "execute_result"
    }
   ],
   "source": [
    "#avarage\n",
    "data = pd.read_csv('C:/Users/BIONIC Admin/Desktop/ML/winemag-data-130k-v2.csv', error_bad_lines=False)\n",
    "\n",
    "#convert data to list_of_lists - make avarage function - convert data to pd.Data Frame\n",
    "data = data.values.tolist()\n",
    "data = amm(data, n = 5, b = 'avarage')\n",
    "data = pd.DataFrame(data)\n",
    "\n",
    "#Drop nan in not numeric, Leave 100 000 rows\n",
    "data = del_nan(data, col = False)\n",
    "data  = data.iloc[1:10000]\n",
    "\n",
    "# Get targets\n",
    "targets = data[10].astype('category')\n",
    "\n",
    "# Filter dataset, select few columns\n",
    "data = data.drop(labels=[10], axis=1)\n",
    "true = [4,5,7,13,6,12]\n",
    "data_new = data[true]\n",
    "\n",
    "# Get dummies in categorical\n",
    "data_new = pd.get_dummies(data_new)\n",
    "\n",
    "# Split data to train/test sets, Create classifier, Get accuracy score\n",
    "\n",
    "X_train, X_test, y_train, y_test = train_test_split(data_new, targets, test_size=0.2, random_state=0)\n",
    "\n",
    "lr = LogisticRegression()\n",
    "lr = lr.fit(X_train, y_train)\n",
    "y_pred = lr.predict(X_test)\n",
    "accuracy_score(y_test, y_pred)"
   ]
  },
  {
   "cell_type": "markdown",
   "metadata": {},
   "source": [
    "#### Accuracy score - 0.846"
   ]
  },
  {
   "cell_type": "markdown",
   "metadata": {},
   "source": [
    "# Third model - replace nans with linear regression result"
   ]
  },
  {
   "cell_type": "code",
   "execution_count": 177,
   "metadata": {},
   "outputs": [
    {
     "name": "stderr",
     "output_type": "stream",
     "text": [
      "c:\\users\\bionic admin\\appdata\\local\\programs\\python\\python37-32\\lib\\site-packages\\ipykernel_launcher.py:40: FutureWarning: `rcond` parameter will change to the default of machine precision times ``max(M, N)`` where M and N are the input matrix dimensions.\n",
      "To use the future default and silence this warning we advise to pass `rcond=None`, to keep using the old, explicitly pass `rcond=-1`.\n",
      "c:\\users\\bionic admin\\appdata\\local\\programs\\python\\python37-32\\lib\\site-packages\\sklearn\\linear_model\\logistic.py:433: FutureWarning: Default solver will be changed to 'lbfgs' in 0.22. Specify a solver to silence this warning.\n",
      "  FutureWarning)\n",
      "c:\\users\\bionic admin\\appdata\\local\\programs\\python\\python37-32\\lib\\site-packages\\sklearn\\linear_model\\logistic.py:460: FutureWarning: Default multi_class will be changed to 'auto' in 0.22. Specify the multi_class option to silence this warning.\n",
      "  \"this warning.\", FutureWarning)\n"
     ]
    },
    {
     "data": {
      "text/plain": [
       "0.847"
      ]
     },
     "execution_count": 177,
     "metadata": {},
     "output_type": "execute_result"
    }
   ],
   "source": [
    "data = pd.read_csv('C:/Users/BIONIC Admin/Desktop/ML/winemag-data-130k-v2.csv', error_bad_lines=False)\n",
    "\n",
    "#convert data to list_of_lists - make linear regression function - convert data to pd.Data Frame\n",
    "data = data.values.tolist()\n",
    "data = LR(data, n = 5, k = 4)\n",
    "data = pd.DataFrame(data)\n",
    "\n",
    "#Drop nan in not numeric, Leave 100 000 rows\n",
    "data = del_nan(data, col = False)\n",
    "data  = data.iloc[1:10000]\n",
    "\n",
    "# Get targets\n",
    "targets = data[10].astype('category')\n",
    "\n",
    "# Filter dataset, select few columns\n",
    "data = data.drop(labels=[10], axis=1)\n",
    "true = [4,5,7,13,6,12]\n",
    "data_new = data[true]\n",
    "\n",
    "# Get dummies in categorical\n",
    "data_new = pd.get_dummies(data_new)\n",
    "\n",
    "# Split data to train/test sets, Create classifier, Get accuracy score\n",
    "\n",
    "X_train, X_test, y_train, y_test = train_test_split(data_new, targets, test_size=0.2, random_state=0)\n",
    "\n",
    "lr = LogisticRegression()\n",
    "lr = lr.fit(X_train, y_train)\n",
    "y_pred = lr.predict(X_test)\n",
    "accuracy_score(y_test, y_pred)"
   ]
  },
  {
   "cell_type": "markdown",
   "metadata": {},
   "source": [
    "#### Acurracy score 0.847"
   ]
  },
  {
   "cell_type": "markdown",
   "metadata": {},
   "source": [
    "# Fourth model - standartazing + scaling"
   ]
  },
  {
   "cell_type": "code",
   "execution_count": 145,
   "metadata": {},
   "outputs": [
    {
     "name": "stderr",
     "output_type": "stream",
     "text": [
      "c:\\users\\bionic admin\\appdata\\local\\programs\\python\\python37-32\\lib\\site-packages\\sklearn\\linear_model\\logistic.py:433: FutureWarning: Default solver will be changed to 'lbfgs' in 0.22. Specify a solver to silence this warning.\n",
      "  FutureWarning)\n",
      "c:\\users\\bionic admin\\appdata\\local\\programs\\python\\python37-32\\lib\\site-packages\\sklearn\\linear_model\\logistic.py:460: FutureWarning: Default multi_class will be changed to 'auto' in 0.22. Specify the multi_class option to silence this warning.\n",
      "  \"this warning.\", FutureWarning)\n"
     ]
    },
    {
     "data": {
      "text/plain": [
       "0.8565"
      ]
     },
     "execution_count": 145,
     "metadata": {},
     "output_type": "execute_result"
    }
   ],
   "source": [
    "data = pd.read_csv('C:/Users/BIONIC Admin/Desktop/ML/winemag-data-130k-v2.csv', error_bad_lines=False)\n",
    "\n",
    "#Drop nan in not numeric, Leave 100 000 rows\n",
    "data = del_nan(data, col = False)\n",
    "data  = data.iloc[1:10000]\n",
    "\n",
    "#standartazing + scaling numeric data - points and price\n",
    "data = data.values.tolist()\n",
    "data = st(data, n = 5)\n",
    "data = st(data, n = 4)\n",
    "\n",
    "data = msh(data, n = 5)\n",
    "data = msh(data, n = 4)\n",
    "\n",
    "data = pd.DataFrame(data)\n",
    "\n",
    "\n",
    "# Get targets\n",
    "targets = data[10].astype('category')\n",
    "\n",
    "# Filter dataset, select few columns\n",
    "data = data.drop(labels=[10], axis=1)\n",
    "true = [4,5,7,13,6,12]\n",
    "data_new = data[true]\n",
    "\n",
    "# Get dummies in categorical\n",
    "data_new = pd.get_dummies(data_new)\n",
    "\n",
    "# Split data to train/test sets, Create classifier, Get accuracy score\n",
    "\n",
    "X_train, X_test, y_train, y_test = train_test_split(data_new, targets, test_size=0.2, random_state=0)\n",
    "\n",
    "lr = LogisticRegression()\n",
    "lr = lr.fit(X_train, y_train)\n",
    "y_pred = lr.predict(X_test)\n",
    "accuracy_score(y_test, y_pred)"
   ]
  },
  {
   "cell_type": "markdown",
   "metadata": {},
   "source": [
    "#### Accuracy score - 0.8565"
   ]
  },
  {
   "cell_type": "markdown",
   "metadata": {},
   "source": [
    "# KNN"
   ]
  },
  {
   "cell_type": "code",
   "execution_count": 209,
   "metadata": {},
   "outputs": [
    {
     "name": "stderr",
     "output_type": "stream",
     "text": [
      "c:\\users\\bionic admin\\appdata\\local\\programs\\python\\python37-32\\lib\\site-packages\\sklearn\\linear_model\\logistic.py:433: FutureWarning: Default solver will be changed to 'lbfgs' in 0.22. Specify a solver to silence this warning.\n",
      "  FutureWarning)\n",
      "c:\\users\\bionic admin\\appdata\\local\\programs\\python\\python37-32\\lib\\site-packages\\sklearn\\linear_model\\logistic.py:460: FutureWarning: Default multi_class will be changed to 'auto' in 0.22. Specify the multi_class option to silence this warning.\n",
      "  \"this warning.\", FutureWarning)\n"
     ]
    },
    {
     "data": {
      "text/plain": [
       "0.846"
      ]
     },
     "execution_count": 209,
     "metadata": {},
     "output_type": "execute_result"
    }
   ],
   "source": [
    "# KNN\n",
    "\n",
    "data = pd.read_csv('C:/Users/BIONIC Admin/Desktop/ML/winemag-data-130k-v2.csv', error_bad_lines=False)\n",
    "\n",
    "\n",
    "one = ['points','price']\n",
    "data = data[one]\n",
    "data = replace_knn(data, 'price', 10)\n",
    "#data = pd.DataFrame(data)\n",
    "\n",
    "#Drop nan in not numeric, Leave 10 000 rows\n",
    "data = del_nan(data, col = False)\n",
    "\n",
    "data  = data.iloc[1:10000]\n",
    "targets = data['taster_twitter_handle'].astype('category')\n",
    "data = data.drop(labels=['taster_twitter_handle'], axis=1)\n",
    "\n",
    "true = ['points','price','region_1','winery','province','variety']\n",
    "data_new = data[true]\n",
    "data_new = pd.get_dummies(data_new)\n",
    "\n",
    "X_train, X_test, y_train, y_test = train_test_split(data_new, targets, test_size=0.2, random_state=0)\n",
    "\n",
    "lr = LogisticRegression()\n",
    "lr = lr.fit(X_train, y_train)\n",
    "y_pred = lr.predict(X_test)\n",
    "accuracy_score(y_test, y_pred)\n"
   ]
  },
  {
   "cell_type": "markdown",
   "metadata": {},
   "source": [
    "#### Accuracy score 0.846"
   ]
  },
  {
   "cell_type": "markdown",
   "metadata": {},
   "source": [
    "# Model - standartazing + scaling + linear regression"
   ]
  },
  {
   "cell_type": "code",
   "execution_count": null,
   "metadata": {},
   "outputs": [],
   "source": [
    "data = pd.read_csv('C:/Users/BIONIC Admin/Desktop/ML/winemag-data-130k-v2.csv', error_bad_lines=False)\n",
    "\n",
    "\n",
    "\n",
    "one = ['points','price']\n",
    "data = data[one]\n",
    "data = replace_knn(data, 'price', 10)\n",
    "#data = pd.DataFrame(data)\n",
    "\n",
    "#Drop nan in not numeric, Leave 10 000 rows\n",
    "data = del_nan(data, col = False)\n",
    "\n",
    "data  = data.iloc[1:10000]\n",
    "targets = data['taster_twitter_handle'].astype('category')\n",
    "data = data.drop(labels=['taster_twitter_handle'], axis=1)\n",
    "\n",
    "true = ['points','price','region_1','winery','province','variety']\n",
    "data_new = data[true]\n",
    "data_new = pd.get_dummies(data_new)\n",
    "\n",
    "X_train, X_test, y_train, y_test = train_test_split(data_new, targets, test_size=0.2, random_state=0)\n",
    "\n",
    "lr = LogisticRegression()\n",
    "lr = lr.fit(X_train, y_train)\n",
    "y_pred = lr.predict(X_test)\n",
    "accuracy_score(y_test, y_pred)\n"
   ]
  },
  {
   "cell_type": "code",
   "execution_count": 208,
   "metadata": {},
   "outputs": [
    {
     "name": "stderr",
     "output_type": "stream",
     "text": [
      "c:\\users\\bionic admin\\appdata\\local\\programs\\python\\python37-32\\lib\\site-packages\\ipykernel_launcher.py:40: FutureWarning: `rcond` parameter will change to the default of machine precision times ``max(M, N)`` where M and N are the input matrix dimensions.\n",
      "To use the future default and silence this warning we advise to pass `rcond=None`, to keep using the old, explicitly pass `rcond=-1`.\n",
      "c:\\users\\bionic admin\\appdata\\local\\programs\\python\\python37-32\\lib\\site-packages\\sklearn\\linear_model\\logistic.py:433: FutureWarning: Default solver will be changed to 'lbfgs' in 0.22. Specify a solver to silence this warning.\n",
      "  FutureWarning)\n",
      "c:\\users\\bionic admin\\appdata\\local\\programs\\python\\python37-32\\lib\\site-packages\\sklearn\\linear_model\\logistic.py:460: FutureWarning: Default multi_class will be changed to 'auto' in 0.22. Specify the multi_class option to silence this warning.\n",
      "  \"this warning.\", FutureWarning)\n"
     ]
    },
    {
     "data": {
      "text/plain": [
       "0.856"
      ]
     },
     "execution_count": 208,
     "metadata": {},
     "output_type": "execute_result"
    }
   ],
   "source": [
    "data = pd.read_csv('C:/Users/BIONIC Admin/Desktop/ML/winemag-data-130k-v2.csv', error_bad_lines=False)\n",
    "\n",
    "#convert data to list_of_lists - make linear regression function - convert data to pd.Data Frame\n",
    "data = data.values.tolist()\n",
    "data = LR(data, n = 5, k = 4)\n",
    "data = pd.DataFrame(data)\n",
    "\n",
    "data = del_nan(data, col = False)\n",
    "\n",
    "data = data.values.tolist()\n",
    "data = st(data, n = 5)\n",
    "data = st(data, n = 4)\n",
    "\n",
    "data = msh(data, n = 5)\n",
    "data = msh(data, n = 4)\n",
    "\n",
    "\n",
    "data = pd.DataFrame(data)\n",
    "\n",
    "#Drop nan in not numeric, Leave 100 000 rows\n",
    "\n",
    "data  = data.iloc[1:10000]\n",
    "\n",
    "# Get targets\n",
    "targets = data[10].astype('category')\n",
    "\n",
    "# Filter dataset, select few columns\n",
    "data = data.drop(labels=[10], axis=1)\n",
    "true = [4,5,7,13,6,12]\n",
    "data_new = data[true]\n",
    "\n",
    "# Get dummies in categorical\n",
    "data_new = pd.get_dummies(data_new)\n",
    "\n",
    "# Split data to train/test sets, Create classifier, Get accuracy score\n",
    "\n",
    "X_train, X_test, y_train, y_test = train_test_split(data_new, targets, test_size=0.2, random_state=0)\n",
    "\n",
    "lr = LogisticRegression()\n",
    "lr = lr.fit(X_train, y_train)\n",
    "y_pred = lr.predict(X_test)\n",
    "accuracy_score(y_test, y_pred)"
   ]
  },
  {
   "cell_type": "markdown",
   "metadata": {},
   "source": [
    "#### BEST accuracy - 0.8565 with dropping nan values, standartazing + scaling\n",
    "\n",
    "##### But all accuracies are very close to each other"
   ]
  }
 ],
 "metadata": {
  "kernelspec": {
   "display_name": "Python 3",
   "language": "python",
   "name": "python3"
  },
  "language_info": {
   "codemirror_mode": {
    "name": "ipython",
    "version": 3
   },
   "file_extension": ".py",
   "mimetype": "text/x-python",
   "name": "python",
   "nbconvert_exporter": "python",
   "pygments_lexer": "ipython3",
   "version": "3.7.2"
  }
 },
 "nbformat": 4,
 "nbformat_minor": 2
}
